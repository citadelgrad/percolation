{
 "cells": [
  {
   "cell_type": "code",
   "execution_count": 52,
   "metadata": {
    "tags": [
     "outputPrepend",
     "outputPrepend",
     "outputPrepend",
     "outputPrepend",
     "outputPrepend",
     "outputPrepend",
     "outputPrepend",
     "outputPrepend",
     "outputPrepend",
     "outputPrepend",
     "outputPrepend",
     "outputPrepend",
     "outputPrepend",
     "outputPrepend",
     "outputPrepend",
     "outputPrepend",
     "outputPrepend",
     "outputPrepend",
     "outputPrepend",
     "outputPrepend",
     "outputPrepend",
     "outputPrepend",
     "outputPrepend",
     "outputPrepend",
     "outputPrepend",
     "outputPrepend",
     "outputPrepend",
     "outputPrepend",
     "outputPrepend",
     "outputPrepend",
     "outputPrepend",
     "outputPrepend",
     "outputPrepend",
     "outputPrepend",
     "outputPrepend",
     "outputPrepend",
     "outputPrepend",
     "outputPrepend",
     "outputPrepend",
     "outputPrepend",
     "outputPrepend",
     "outputPrepend",
     "outputPrepend",
     "outputPrepend",
     "outputPrepend"
    ]
   },
   "outputs": [
    {
     "output_type": "error",
     "ename": "SyntaxError",
     "evalue": "invalid syntax (<ipython-input-52-609b2450cd49>, line 33)",
     "traceback": [
      "\u001b[0;36m  File \u001b[0;32m\"<ipython-input-52-609b2450cd49>\"\u001b[0;36m, line \u001b[0;32m33\u001b[0m\n\u001b[0;31m    top_row = enumerate(self.block:ROW])\u001b[0m\n\u001b[0m                                  ^\u001b[0m\n\u001b[0;31mSyntaxError\u001b[0m\u001b[0;31m:\u001b[0m invalid syntax\n"
     ]
    }
   ],
   "source": [
    "import numpy as np\n",
    "from numpy import random\n",
    "\n",
    "class Percolate:\n",
    "\n",
    "    def __init__(self):\n",
    "        self.ROW = 3\n",
    "        self.BLOCK_SIZE = ROW ** 2\n",
    "        self.block = np.arange(BLOCK_SIZE)\n",
    "        self.adjaceny_list = dict()\n",
    "\n",
    "    def find_neighbors(self, item_index):\n",
    "        right = item_index + 1\n",
    "        left = item_index - 1\n",
    "        up = item_index - self.ROW\n",
    "        down = item_index + self.ROW\n",
    "        return (left, right, up, down)\n",
    "\n",
    "    def create_connection(self, item, connection):\n",
    "        \"\"\"Adjaceny List:\n",
    "        {0: [(0,1), (2,3)]\n",
    "            1: []\n",
    "        }\n",
    "        \"\"\"\n",
    "        self.adjaceny_list[item].add(connection)\n",
    "\n",
    "    def find_path(self, top, bottom):\n",
    "        block  = [0,0,1,0,0,1,1,0,0]\n",
    "        top = (2, 1)[0]\n",
    "        bottom = (6, 1)[0]\n",
    "\n",
    "    def open_block(self):\n",
    "        choice = random.choice(self.block.size)\n",
    "        print(\"Opening a block\")\n",
    "        updated_location = self.block[choice] = 1\n",
    "        print(choice, updated_location)\n",
    "        self.create_connection()\n",
    "\n",
    "    def does_it_percolate(self):\n",
    "        # I need to make a virtual top element for both the top and bottom.\n",
    "        # top_row = enumerate(self.block:ROW])\n",
    "        # active_top = list(filter(lambda x: x[1] is 1, top_row))\n",
    "        # bottom_row = enumerate(self.block:-ROW])\n",
    "        # active_bottom = list(filter(lambda x: x[1] is 1, bottom_row))\n",
    "        result = find_path()\n",
    "\n",
    "        return result\n",
    "\n",
    "    def block_main(self):\n",
    "        while self.does_it_percolate(self.block) is False:\n",
    "            open_block(my_set)\n",
    "            # print(my_set)\n",
    "        return print(f\"\\nThis block percolates:\\n{self.block}\")\n",
    "\n"
   ]
  },
  {
   "cell_type": "code",
   "execution_count": 62,
   "metadata": {},
   "outputs": [
    {
     "output_type": "stream",
     "name": "stdout",
     "text": "{}\n{0: {3, 5}}\n"
    }
   ],
   "source": [
    "a = dict()\n",
    "\n",
    "print(a)\n",
    "a[0] = set()\n",
    "a[0].add(3)\n",
    "a[0].add(5)\n",
    "print(a)"
   ]
  },
  {
   "cell_type": "code",
   "execution_count": 63,
   "metadata": {},
   "outputs": [
    {
     "output_type": "execute_result",
     "data": {
      "text/plain": "0"
     },
     "metadata": {},
     "execution_count": 63
    }
   ],
   "source": [
    "a  =[0,2,3]\n",
    "a[-3]\n"
   ]
  },
  {
   "cell_type": "code",
   "execution_count": null,
   "metadata": {},
   "outputs": [],
   "source": []
  }
 ],
 "metadata": {
  "kernelspec": {
   "display_name": "Python 3",
   "language": "python",
   "name": "python3"
  },
  "language_info": {
   "codemirror_mode": {
    "name": "ipython",
    "version": 3
   },
   "file_extension": ".py",
   "mimetype": "text/x-python",
   "name": "python",
   "nbconvert_exporter": "python",
   "pygments_lexer": "ipython3",
   "version": "3.7.7-final"
  }
 },
 "nbformat": 4,
 "nbformat_minor": 4
}